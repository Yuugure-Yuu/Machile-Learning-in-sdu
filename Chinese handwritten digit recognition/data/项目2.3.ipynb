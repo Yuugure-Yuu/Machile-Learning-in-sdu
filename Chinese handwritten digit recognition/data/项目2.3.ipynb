{
 "cells": [
  {
   "cell_type": "markdown",
   "metadata": {},
   "source": [
    "# 项目2"
   ]
  },
  {
   "cell_type": "markdown",
   "metadata": {},
   "source": [
    "首先导入csv表格数据"
   ]
  },
  {
   "cell_type": "code",
   "execution_count": 53,
   "metadata": {},
   "outputs": [],
   "source": [
    "import pandas as pd\n",
    "import numpy as np\n",
    "import os\n",
    "import cv2 as cv\n",
    "import matplotlib.pyplot as plt\n",
    "import seaborn as sns\n",
    "from skimage import io, transform\n",
    "from tqdm import tqdm\n",
    "import time\n",
    "data_df=pd.read_csv('chinese_mnist.csv')"
   ]
  },
  {
   "cell_type": "markdown",
   "metadata": {},
   "source": [
    "检查表格里的数据是否有缺漏"
   ]
  },
  {
   "cell_type": "code",
   "execution_count": 54,
   "metadata": {},
   "outputs": [
    {
     "data": {
      "text/html": [
       "<div>\n",
       "<style scoped>\n",
       "    .dataframe tbody tr th:only-of-type {\n",
       "        vertical-align: middle;\n",
       "    }\n",
       "\n",
       "    .dataframe tbody tr th {\n",
       "        vertical-align: top;\n",
       "    }\n",
       "\n",
       "    .dataframe thead th {\n",
       "        text-align: right;\n",
       "    }\n",
       "</style>\n",
       "<table border=\"1\" class=\"dataframe\">\n",
       "  <thead>\n",
       "    <tr style=\"text-align: right;\">\n",
       "      <th></th>\n",
       "      <th>Total</th>\n",
       "      <th>Percent</th>\n",
       "    </tr>\n",
       "  </thead>\n",
       "  <tbody>\n",
       "    <tr>\n",
       "      <th>character</th>\n",
       "      <td>0</td>\n",
       "      <td>0.0</td>\n",
       "    </tr>\n",
       "    <tr>\n",
       "      <th>value</th>\n",
       "      <td>0</td>\n",
       "      <td>0.0</td>\n",
       "    </tr>\n",
       "    <tr>\n",
       "      <th>code</th>\n",
       "      <td>0</td>\n",
       "      <td>0.0</td>\n",
       "    </tr>\n",
       "    <tr>\n",
       "      <th>sample_id</th>\n",
       "      <td>0</td>\n",
       "      <td>0.0</td>\n",
       "    </tr>\n",
       "    <tr>\n",
       "      <th>suite_id</th>\n",
       "      <td>0</td>\n",
       "      <td>0.0</td>\n",
       "    </tr>\n",
       "  </tbody>\n",
       "</table>\n",
       "</div>"
      ],
      "text/plain": [
       "           Total  Percent\n",
       "character      0      0.0\n",
       "value          0      0.0\n",
       "code           0      0.0\n",
       "sample_id      0      0.0\n",
       "suite_id       0      0.0"
      ]
     },
     "execution_count": 54,
     "metadata": {},
     "output_type": "execute_result"
    }
   ],
   "source": [
    "def missing_data(data):\n",
    "    total = data.isnull().sum().sort_values(ascending = False)\n",
    "    percent = (data.isnull().sum() / data.isnull().count() * 100).sort_values(ascending = False)\n",
    "    return pd.concat([total, percent], axis=1, keys=['Total', 'Percent'])\n",
    "missing_data(data_df)"
   ]
  },
  {
   "cell_type": "markdown",
   "metadata": {},
   "source": [
    "没有缺漏。\n",
    "\n",
    "同样地，检查图像数据并将信息导入data_df。"
   ]
  },
  {
   "cell_type": "code",
   "execution_count": 55,
   "metadata": {},
   "outputs": [
    {
     "name": "stdout",
     "output_type": "stream",
     "text": [
      "图像数：15000\n"
     ]
    }
   ],
   "source": [
    "IMAGE_PATH = '.\\\\data\\\\'\n",
    "\n",
    "image_files = list(os.listdir(IMAGE_PATH))\n",
    "print(\"图像数：%d\" %len(image_files))\n",
    "# if no missing in the data, it will print '15000'"
   ]
  },
  {
   "cell_type": "code",
   "execution_count": 56,
   "metadata": {},
   "outputs": [
    {
     "data": {
      "text/html": [
       "<div>\n",
       "<style scoped>\n",
       "    .dataframe tbody tr th:only-of-type {\n",
       "        vertical-align: middle;\n",
       "    }\n",
       "\n",
       "    .dataframe tbody tr th {\n",
       "        vertical-align: top;\n",
       "    }\n",
       "\n",
       "    .dataframe thead th {\n",
       "        text-align: right;\n",
       "    }\n",
       "</style>\n",
       "<table border=\"1\" class=\"dataframe\">\n",
       "  <thead>\n",
       "    <tr style=\"text-align: right;\">\n",
       "      <th></th>\n",
       "      <th>suite_id</th>\n",
       "      <th>sample_id</th>\n",
       "      <th>code</th>\n",
       "      <th>value</th>\n",
       "      <th>character</th>\n",
       "      <th>file</th>\n",
       "      <th>width</th>\n",
       "      <th>height</th>\n",
       "    </tr>\n",
       "  </thead>\n",
       "  <tbody>\n",
       "    <tr>\n",
       "      <th>0</th>\n",
       "      <td>1</td>\n",
       "      <td>1</td>\n",
       "      <td>10</td>\n",
       "      <td>9</td>\n",
       "      <td>九</td>\n",
       "      <td>input_1_1_10.jpg</td>\n",
       "      <td>64</td>\n",
       "      <td>64</td>\n",
       "    </tr>\n",
       "    <tr>\n",
       "      <th>1</th>\n",
       "      <td>1</td>\n",
       "      <td>10</td>\n",
       "      <td>10</td>\n",
       "      <td>9</td>\n",
       "      <td>九</td>\n",
       "      <td>input_1_10_10.jpg</td>\n",
       "      <td>64</td>\n",
       "      <td>64</td>\n",
       "    </tr>\n",
       "    <tr>\n",
       "      <th>2</th>\n",
       "      <td>1</td>\n",
       "      <td>2</td>\n",
       "      <td>10</td>\n",
       "      <td>9</td>\n",
       "      <td>九</td>\n",
       "      <td>input_1_2_10.jpg</td>\n",
       "      <td>64</td>\n",
       "      <td>64</td>\n",
       "    </tr>\n",
       "    <tr>\n",
       "      <th>3</th>\n",
       "      <td>1</td>\n",
       "      <td>3</td>\n",
       "      <td>10</td>\n",
       "      <td>9</td>\n",
       "      <td>九</td>\n",
       "      <td>input_1_3_10.jpg</td>\n",
       "      <td>64</td>\n",
       "      <td>64</td>\n",
       "    </tr>\n",
       "    <tr>\n",
       "      <th>4</th>\n",
       "      <td>1</td>\n",
       "      <td>4</td>\n",
       "      <td>10</td>\n",
       "      <td>9</td>\n",
       "      <td>九</td>\n",
       "      <td>input_1_4_10.jpg</td>\n",
       "      <td>64</td>\n",
       "      <td>64</td>\n",
       "    </tr>\n",
       "  </tbody>\n",
       "</table>\n",
       "</div>"
      ],
      "text/plain": [
       "   suite_id  sample_id  code  value character               file  width  \\\n",
       "0         1          1    10      9         九   input_1_1_10.jpg     64   \n",
       "1         1         10    10      9         九  input_1_10_10.jpg     64   \n",
       "2         1          2    10      9         九   input_1_2_10.jpg     64   \n",
       "3         1          3    10      9         九   input_1_3_10.jpg     64   \n",
       "4         1          4    10      9         九   input_1_4_10.jpg     64   \n",
       "\n",
       "   height  \n",
       "0      64  \n",
       "1      64  \n",
       "2      64  \n",
       "3      64  \n",
       "4      64  "
      ]
     },
     "execution_count": 56,
     "metadata": {},
     "output_type": "execute_result"
    }
   ],
   "source": [
    "def create_file_name(x):\n",
    "    file_name = f\"input_{x[0]}_{x[1]}_{x[2]}.jpg\"\n",
    "    return file_name\n",
    "def read_image_sizes(file_name):\n",
    "    image = io.imread(IMAGE_PATH + file_name)\n",
    "    return list(image.shape)\n",
    "\n",
    "\n",
    "data_df['file'] = data_df.apply(create_file_name, axis=1)\n",
    "file_names = list(data_df['file'])\n",
    "\n",
    "df = pd.DataFrame(np.stack(data_df['file'].apply(read_image_sizes)), columns = ['width', 'height'])\n",
    "data_df = pd.concat([data_df, df], axis = 1)\n",
    "\n",
    "data_df.head()"
   ]
  },
  {
   "cell_type": "code",
   "execution_count": 57,
   "metadata": {
    "scrolled": true
   },
   "outputs": [
    {
     "data": {
      "text/plain": [
       "八    1000\n",
       "七    1000\n",
       "百    1000\n",
       "十    1000\n",
       "二    1000\n",
       "一    1000\n",
       "五    1000\n",
       "九    1000\n",
       "六    1000\n",
       "三    1000\n",
       "千    1000\n",
       "万    1000\n",
       "四    1000\n",
       "零    1000\n",
       "亿    1000\n",
       "Name: character, dtype: int64"
      ]
     },
     "execution_count": 57,
     "metadata": {},
     "output_type": "execute_result"
    }
   ],
   "source": [
    "data_df.character.value_counts()"
   ]
  },
  {
   "cell_type": "markdown",
   "metadata": {},
   "source": [
    "由于t-sne执行时间比较长，这里先选用4500项数据。这样的话，训练集：验证集：测试集的比例为5:3:2."
   ]
  },
  {
   "cell_type": "code",
   "execution_count": 58,
   "metadata": {},
   "outputs": [
    {
     "name": "stderr",
     "output_type": "stream",
     "text": [
      "100%|█████████████████████████████████████████████████████████████████████████████| 4500/4500 [00:12<00:00, 357.33it/s]\n"
     ]
    }
   ],
   "source": [
    "def create_datasets(df):\n",
    "    imgs = []\n",
    "    for filename in tqdm(df['file']):\n",
    "        img = io.imread(IMAGE_PATH + filename)\n",
    "        img = transform.resize(img, (64, 64))\n",
    "        img = img.flatten()\n",
    "        imgs.append(img)\n",
    "        \n",
    "    imgs = np.array(imgs)\n",
    "    df = pd.get_dummies(df['character'])\n",
    "    return imgs, df\n",
    "\n",
    "\n",
    "data_df = data_df.iloc[np.random.permutation(len(data_df))]\n",
    "data_df = data_df[0 : 4500]\n",
    "imgs, df = create_datasets(data_df)"
   ]
  },
  {
   "cell_type": "code",
   "execution_count": 59,
   "metadata": {
    "scrolled": false
   },
   "outputs": [
    {
     "data": {
      "text/plain": [
       "亿    324\n",
       "万    320\n",
       "一    316\n",
       "十    306\n",
       "八    305\n",
       "三    303\n",
       "二    301\n",
       "九    298\n",
       "七    297\n",
       "四    295\n",
       "零    290\n",
       "百    289\n",
       "五    287\n",
       "六    285\n",
       "千    284\n",
       "Name: character, dtype: int64"
      ]
     },
     "execution_count": 59,
     "metadata": {},
     "output_type": "execute_result"
    }
   ],
   "source": [
    "data_df.character.value_counts()"
   ]
  },
  {
   "cell_type": "markdown",
   "metadata": {},
   "source": [
    "先使用pca降维保留95%特征。"
   ]
  },
  {
   "cell_type": "code",
   "execution_count": 60,
   "metadata": {},
   "outputs": [
    {
     "name": "stdout",
     "output_type": "stream",
     "text": [
      "保留95%信息，降维后的特征个数：637\n",
      "\n"
     ]
    }
   ],
   "source": [
    "def Z_centered(dataMat):\n",
    "    rows,cols = dataMat.shape\n",
    "    meanVal = np.mean(dataMat, axis = 0)  # 按列求均值，即求各个特征的均值\n",
    "    meanVal = np.tile(meanVal,(rows, 1))\n",
    "    newdata = dataMat - meanVal\n",
    "    return newdata, meanVal\n",
    "\n",
    "# 最小化降维造成的损失，确定k\n",
    "def Percentage2n(eigVals, percentage):\n",
    "    sortArray = np.sort(eigVals)\n",
    "    # 逆转为降序\n",
    "    sortArray = sortArray[-1::-1]  \n",
    "    arraySum = sum(sortArray)\n",
    "    tmpSum = 0\n",
    "    num = 0\n",
    "    for i in sortArray:\n",
    "        tmpSum += i\n",
    "        num += 1\n",
    "        if tmpSum >= arraySum * percentage:\n",
    "            return num\n",
    "\n",
    "# 得到最大的k个特征值和特征向量\n",
    "def EigDV(covMat, p):\n",
    "    D, V = np.linalg.eig(covMat) # 得到特征值和特征向量\n",
    "    k = Percentage2n(D, p) # 确定k值\n",
    "    print(\"保留95%信息，降维后的特征个数：\" + str(k) + \"\\n\")\n",
    "    eigenvalue = np.argsort(D)\n",
    "    K_eigenValue = eigenvalue[-1:-(k+1):-1]\n",
    "    K_eigenVector = V[:,K_eigenValue]\n",
    "    return K_eigenValue, K_eigenVector\n",
    "\n",
    "# 得到降维后的数据\n",
    "def getlowDataMat(DataMat, K_eigenVector):\n",
    "    return DataMat * K_eigenVector\n",
    " \n",
    "# 重构数据\n",
    "def Reconstruction(lowDataMat, K_eigenVector, meanVal):\n",
    "    reconDataMat = lowDataMat * K_eigenVector.T + meanVal\n",
    "    return reconDataMat\n",
    " \n",
    "# PCA算法\n",
    "def Pca(data, p):\n",
    "    dataMat = np.mat(data)\n",
    "    # 数据中心化\n",
    "    dataMat, meanVal = Z_centered(dataMat)\n",
    "    # 计算协方差矩阵\n",
    "    covMat = np.cov(dataMat, rowvar = 0)\n",
    "    # 得到最大的k个特征值和特征向量\n",
    "    D, V = EigDV(covMat, p)\n",
    "    # 得到降维后的数据\n",
    "    lowDataMat = getlowDataMat(dataMat, V)\n",
    "    # 重构数据\n",
    "    # reconDataMat = Reconstruction(lowDataMat, V, meanVal)\n",
    "    return np.array(lowDataMat.real), V\n",
    " \n",
    "Y_pca, V = Pca(imgs, 0.95)"
   ]
  },
  {
   "cell_type": "code",
   "execution_count": 61,
   "metadata": {},
   "outputs": [
    {
     "name": "stdout",
     "output_type": "stream",
     "text": [
      "(4500, 637)\n"
     ]
    }
   ],
   "source": [
    "print(Y_pca.shape)"
   ]
  },
  {
   "cell_type": "markdown",
   "metadata": {},
   "source": [
    "先把所有图像数据进行降维，再分隔数据集。尝试t-sne算法进一步降维。"
   ]
  },
  {
   "cell_type": "code",
   "execution_count": 134,
   "metadata": {},
   "outputs": [
    {
     "name": "stdout",
     "output_type": "stream",
     "text": [
      "Computing pairwise distances...\n",
      "Computing pair_prob for point 0 of 4500 ...\n",
      "Computing pair_prob for point 500 of 4500 ...\n",
      "Computing pair_prob for point 1000 of 4500 ...\n",
      "Computing pair_prob for point 1500 of 4500 ...\n",
      "Computing pair_prob for point 2000 of 4500 ...\n",
      "Computing pair_prob for point 2500 of 4500 ...\n",
      "Computing pair_prob for point 3000 of 4500 ...\n",
      "Computing pair_prob for point 3500 of 4500 ...\n",
      "Computing pair_prob for point 4000 of 4500 ...\n",
      "Mean value of sigma:  0.8347205415361384\n",
      "Iteration  100 : error is  4.074142698400556\n",
      "Iteration  200 : error is  1.7039092502274131\n",
      "Iteration  300 : error is  1.658353734811702\n",
      "Running time: 8522.8673576 Seconds\n"
     ]
    },
    {
     "data": {
      "image/png": "[encoded data removed]",
      "text/plain": [
       "<Figure size 432x288 with 1 Axes>"
      ]
     },
     "metadata": {
      "needs_background": "light"
     },
     "output_type": "display_data"
    }
   ],
   "source": [
    "'''\n",
    "代码参考了Laurens van der Maaten开放出的t-sne代码, 并没有用类进行实现,主要是优化了计算的实现\n",
    "'''\n",
    "def cal_pairwise_dist(x):\n",
    "    '''计算pairwise 距离, x是matrix\n",
    "    (a-b)^2 = a^w + b^2 - 2*a*b\n",
    "    '''\n",
    "    sum_x = np.sum(np.square(x), 1)\n",
    "    dist = np.add(np.add(-2 * np.dot(x, x.T), sum_x).T, sum_x)\n",
    "    return dist\n",
    "\n",
    "\n",
    "def cal_perplexity(dist, idx = 0, beta = 1.0):\n",
    "    '''计算perplexity, D是距离向量，\n",
    "    idx指dist中自己与自己距离的位置，beta是高斯分布参数\n",
    "    这里的perp仅计算了熵，方便计算\n",
    "    '''\n",
    "    prob = np.exp(-dist * beta)\n",
    "    # 设置自身prob为0\n",
    "    prob[idx] = 0\n",
    "    sum_prob = np.sum(prob)\n",
    "    perp = np.log(sum_prob + 1e-12) + beta * np.sum(dist * prob) / (sum_prob + 1e-12)\n",
    "    prob /= (sum_prob + 1e-12)\n",
    "    return perp, prob\n",
    "\n",
    "\n",
    "def seach_prob(x, tol = 1e-5, perplexity = 30.0):\n",
    "    '''二分搜索寻找beta,并计算pairwise的prob\n",
    "    '''\n",
    "\n",
    "    # 初始化参数\n",
    "    print(\"Computing pairwise distances...\")\n",
    "    (n, d) = x.shape\n",
    "    dist = cal_pairwise_dist(x)\n",
    "    pair_prob = np.zeros((n, n))\n",
    "    beta = np.ones((n, 1))\n",
    "    # 取log，方便后续计算\n",
    "    base_perp = np.log(perplexity + 1e-12)\n",
    "\n",
    "    for i in range(n):\n",
    "        if i % 500 == 0:\n",
    "            print(\"Computing pair_prob for point %s of %s ...\" %(i,n))\n",
    "\n",
    "        betamin = -np.inf\n",
    "        betamax = np.inf\n",
    "        perp, this_prob = cal_perplexity(dist[i], i, beta[i])\n",
    "\n",
    "        # 二分搜索,寻找最佳sigma下的prob\n",
    "        perp_diff = perp - base_perp\n",
    "        tries = 0\n",
    "        while np.abs(perp_diff) > tol and tries < 50:\n",
    "            if perp_diff > 0:\n",
    "                betamin = beta[i].copy()\n",
    "                if betamax == np.inf or betamax == -np.inf:\n",
    "                    beta[i] = beta[i] * 2\n",
    "                else:\n",
    "                    beta[i] = (beta[i] + betamax) / 2\n",
    "            else:\n",
    "                betamax = beta[i].copy()\n",
    "                if betamin == np.inf or betamin == -np.inf:\n",
    "                    beta[i] = beta[i] / 2\n",
    "                else:\n",
    "                    beta[i] = (beta[i] + betamin) / 2\n",
    "\n",
    "            # 更新perb,prob值\n",
    "            perp, this_prob = cal_perplexity(dist[i], i, beta[i])\n",
    "            perp_diff = perp - base_perp\n",
    "            tries = tries + 1\n",
    "        # 记录prob值\n",
    "        pair_prob[i,] = this_prob\n",
    "    print(\"Mean value of sigma: \", np.mean(np.sqrt(1 / beta)))\n",
    "    return pair_prob\n",
    "\n",
    "\n",
    "def tsne(x, no_dims = 15, perplexity = 30.0, max_iter = 300):\n",
    "    '''t-sne算法\n",
    "    先使用PCA降维到initial_dims维，再用t-sne降维到 no_dims维.\n",
    "    '''\n",
    "\n",
    "    # Check inputs\n",
    "    if isinstance(no_dims, float):\n",
    "        print(\"Error: array x should have type float.\")\n",
    "        return -1\n",
    "    if round(no_dims) != no_dims:\n",
    "        print(\"Error: number of dimensions should be an integer.\")\n",
    "        return -1\n",
    "\n",
    "    # 初始化参数和变量\n",
    "    (n, d) = x.shape\n",
    "    initial_momentum = 0.5\n",
    "    final_momentum = 0.8\n",
    "    # eta 学习速率\n",
    "    eta = 6000\n",
    "    min_gain = 0.01\n",
    "    y = np.random.randn(n, no_dims)\n",
    "    dy = np.zeros((n, no_dims))\n",
    "    iy = np.zeros((n, no_dims))\n",
    "    gains = np.ones((n, no_dims))\n",
    "\n",
    "    # 对称化\n",
    "    P = seach_prob(x, 1e-5, perplexity)\n",
    "    P = P + np.transpose(P)\n",
    "    P = P / np.sum(P)\n",
    "    # early exaggeration\n",
    "    P = P * 4\n",
    "    P = np.maximum(P, 1e-12)\n",
    "\n",
    "    # Run iterations\n",
    "    for iter in range(max_iter):\n",
    "        # Compute pairwise affinities\n",
    "        sum_y = np.sum(np.square(y), 1)\n",
    "        num = 1 / (1 + np.add(np.add(-2 * np.dot(y, y.T), sum_y).T, sum_y))\n",
    "        num[range(n), range(n)] = 0\n",
    "        Q = num / np.sum(num)\n",
    "        Q = np.maximum(Q, 1e-12)\n",
    "\n",
    "        # Compute gradient\n",
    "        PQ = P - Q\n",
    "        for i in range(n):\n",
    "            dy[i,:] = np.sum(np.tile(PQ[:,i] * num[:,i], (no_dims, 1)).T * (y[i,:] - y), 0)\n",
    "\n",
    "        # Perform the update\n",
    "        if iter < 20:\n",
    "            momentum = initial_momentum\n",
    "        else:\n",
    "            momentum = final_momentum\n",
    "        gains = (gains + 0.2) * ((dy > 0) != (iy > 0)) + (gains * 0.8) * ((dy > 0) == (iy > 0))\n",
    "        gains[gains < min_gain] = min_gain\n",
    "        iy = momentum * iy - eta * (gains * dy)\n",
    "        y = y + iy\n",
    "        y = y - np.tile(np.mean(y, 0), (n, 1))\n",
    "        # Compute current value of cost function\n",
    "        if (iter + 1) % 100 == 0:\n",
    "            if iter > 100:\n",
    "                C = np.sum(P * np.log(P / Q))\n",
    "            else:\n",
    "                C = np.sum( P / 4 * np.log( P / 4 / Q))\n",
    "            print(\"Iteration \", (iter + 1), \": error is \", C)\n",
    "        # Stop lying about P-values\n",
    "        if iter == 100:\n",
    "            P = P / 4\n",
    "    return y\n",
    "\n",
    "\n",
    "start = time.perf_counter()\n",
    "Y = tsne(Y_pca, 100, 50)\n",
    "end = time.perf_counter()\n",
    "print('Running time: %s Seconds'%(end-start))\n",
    "plt.scatter(Y[:,0], Y[:,1], 20)\n",
    "plt.show()"
   ]
  },
  {
   "cell_type": "code",
   "execution_count": 135,
   "metadata": {},
   "outputs": [
    {
     "name": "stdout",
     "output_type": "stream",
     "text": [
      "(4500, 100)\n"
     ]
    }
   ],
   "source": [
    "print(Y.shape)"
   ]
  },
  {
   "cell_type": "markdown",
   "metadata": {},
   "source": [
    "分隔数据集（为降低测试成本，初期测试时不使用十折交叉验证）"
   ]
  },
  {
   "cell_type": "code",
   "execution_count": 62,
   "metadata": {},
   "outputs": [],
   "source": [
    "def trainTestSplit(imgs, y, length, start, end):\n",
    "    X_test = imgs[start * length : end*length, :]\n",
    "    y_test = df[start * length : end*length]\n",
    "    y_test_index = list(y_test.index)\n",
    "    # 都转换为list来判定成员资格\n",
    "    y_test_flag = y.index.isin(y_test_index)  \n",
    "    diff_flag = [not f for f in y_test_flag]\n",
    "    X_train = imgs[diff_flag]\n",
    "    y_train = y[diff_flag]\n",
    "    return X_train, y_train, X_test, y_test"
   ]
  },
  {
   "cell_type": "code",
   "execution_count": 136,
   "metadata": {},
   "outputs": [
    {
     "name": "stdout",
     "output_type": "stream",
     "text": [
      "450\n",
      "4050\n"
     ]
    }
   ],
   "source": [
    "def trainTestSplit(imgs, y, length, start, end):\n",
    "    X_test = imgs[start * length : end*length, :]\n",
    "    y_test = df[start * length : end*length]\n",
    "    y_test_index = list(y_test.index)\n",
    "    # 都转换为list来判定成员资格\n",
    "    y_test_flag = y.index.isin(y_test_index)  \n",
    "    diff_flag = [not f for f in y_test_flag]\n",
    "    X_train = imgs[diff_flag]\n",
    "    y_train = y[diff_flag]\n",
    "    return X_train, y_train, X_test, y_test\n",
    "\n",
    "\n",
    "\n",
    "X_train, y_train, X_test, y_test = trainTestSplit(Y, df, 450, 0, 1)\n",
    "print(len(y_test))\n",
    "print(len(y_train))"
   ]
  },
  {
   "cell_type": "markdown",
   "metadata": {},
   "source": [
    "至此，数据集导入、降维、分割初步完成。\n",
    "\n",
    "np数组Y存储了图像特征信息，大小为4500, 50, 并被分割为训练集X_train与测试集X_test，分别存储了后4050与前450的图像的特征信息。\n",
    "\n",
    "df存储了图像对应的手写汉字，并被分割为训练集y_train与测试集y_test，分别存储了后4050与前450的图像对应的手写汉字。\n",
    "\n",
    "在初步完成模型调试后，可以参考项目1的代码，调用trainTestSplit函数完成10折交叉验证，并以此稍微进一步调参，最后评估模型性能。交叉验证集应使用与最初的训练集不同的数据。"
   ]
  },
  {
   "cell_type": "code",
   "execution_count": 63,
   "metadata": {},
   "outputs": [],
   "source": [
    "# 使用仅pca降维后数据集\n",
    "X_pca_train, y_train, X_pca_test, y_test = trainTestSplit(Y_pca, df, 450, 0, 1)"
   ]
  },
  {
   "cell_type": "markdown",
   "metadata": {},
   "source": [
    "np数组Y_pca存储了图像特征信息，大小为4500, 637, 并被分割为训练集X_pca_train与测试集X_pca_test，分别存储了后4050与前450的图像的特征信息。\n",
    "\n",
    "df存储了图像对应的手写汉字，并被分割为训练集y_train与测试集y_test，分别存储了后4050与前450的图像对应的手写汉字"
   ]
  },
  {
   "cell_type": "markdown",
   "metadata": {},
   "source": [
    "sne对困惑度perplexity的调整比较有鲁棒性，给定之后，使用二分搜索的方式寻找合适的sigma。\n",
    "\n",
    "调参时建议参考吴恩达第6周pdf与我的第一个模型（里面有详细的经验总结），可以从梯度下降500（300）次、α=0.5开始调，先10倍10倍调后细调。若准确率稳定在50%以下则可能是模型或模型评估有错，可以尝试输出结果、不同种类手写数字识别率可视化检验。若无错，模型性能不好，如果没有调参过的话，首先是参数的问题。然后是降维的问题，因为降维的参数也没调过。最后再改数据集规模，1500和更大区别不大了，数据集规模增大会耗时，应最后再做。注意数据集规模越大，α和perplexity越大。"
   ]
  },
  {
   "cell_type": "markdown",
   "metadata": {},
   "source": []
  },
  {
   "cell_type": "markdown",
   "metadata": {},
   "source": [
    "<font face=\"微软雅黑\" size=5 color=#A52A2A >1.仅pca降维后进行逻辑回归多分类处理"
   ]
  },
  {
   "cell_type": "code",
   "execution_count": 69,
   "metadata": {},
   "outputs": [
    {
     "name": "stdout",
     "output_type": "stream",
     "text": [
      "(4050, 637)\n",
      "(4050, 15)\n"
     ]
    }
   ],
   "source": [
    "# 仅pca降维后进行逻辑回归多分类处理\n",
    "train_X = X_pca_train\n",
    "train_Y = y_train.values\n",
    "test_X =  X_pca_test\n",
    "test_Y = y_test.values\n",
    "print(train_X.shape)\n",
    "print(train_Y.shape)"
   ]
  },
  {
   "cell_type": "code",
   "execution_count": 70,
   "metadata": {},
   "outputs": [],
   "source": [
    "k = train_X.shape[1]  # k记录维度数量"
   ]
  },
  {
   "cell_type": "code",
   "execution_count": 71,
   "metadata": {},
   "outputs": [],
   "source": [
    "# 逻辑回归的sigmoid函数和计算cost function的函数\n",
    "def sigmoid(z):\n",
    "    return 1/(1+np.exp(-z))\n",
    "\n",
    "lamda = 1\n",
    "def calculate_loss(X, y, W, b, lamda):\n",
    "    A = sigmoid(np.dot(X, W.T) + b)\n",
    "    # 加1e-6是因为防止为0，log0不存在\n",
    "    first = y * np.log(A + 1e-6)\n",
    "    second = (1-y) * np.log(1-A + 1e-6)\n",
    "    reg = np.sum(np.power(W[1:],2))*(lamda/(2*len(X)))\n",
    "    \n",
    "    \n",
    "    return -np.sum(first+second)/len(X)\n",
    "\n",
    "# 初始化W和b两个参数\n",
    "np.random.seed(1)\n",
    "W = np.random.rand(15, k)\n",
    "b = np.ones(15)"
   ]
  },
  {
   "cell_type": "code",
   "execution_count": null,
   "metadata": {},
   "outputs": [
    {
     "name": "stdout",
     "output_type": "stream",
     "text": [
      "已完成迭代100次\n",
      "已完成迭代200次\n"
     ]
    }
   ],
   "source": [
    "# 训练过程\n",
    "\n",
    "# 保存loss值的list\n",
    "loss = []\n",
    "loss.append(calculate_loss(train_X, train_Y, W, b, lamda))\n",
    "\n",
    "# 学习率\n",
    "learning_rate = 0.05\n",
    "# 迭代100次\n",
    "for i in range(3000):\n",
    "    # 参数W，b进行梯度下降变化过程\n",
    "    \n",
    "    reg = W[1:]*(lamda/len(train_X))\n",
    "    reg = np.insert(reg, 0, values=0, axis=0)\n",
    "    \n",
    "    t1 = W - learning_rate * np.dot(np.transpose(sigmoid(np.dot(train_X, W.T) + b) - train_Y), train_X) / len(train_X) - reg*learning_rate  \n",
    "    t2 = b - learning_rate * np.sum(np.transpose(sigmoid(np.dot(train_X, W.T) + b) - train_Y), axis=1) / len(train_X)\n",
    "    W = t1\n",
    "    b = t2\n",
    "    \n",
    "    if (i+1)%100 == 0:\n",
    "        print(\"已完成迭代%d\"%(i+1) + \"次\")\n",
    "        \n",
    "    \n",
    "    loss.append(calculate_loss(train_X, train_Y, W, b, lamda))\n",
    "# 可视化显示迭代过程中的代价函数值\n",
    "plt.plot(loss)\n",
    "plt.show()"
   ]
  },
  {
   "cell_type": "code",
   "execution_count": null,
   "metadata": {},
   "outputs": [],
   "source": [
    "# 预测\n",
    "res = sigmoid(np.dot(test_X, W.T) + b)\n",
    "res_idx = np.argmax(res, axis=1)\n",
    "test_idx = np.argmax(test_Y, axis=1)\n",
    "cnt = 0\n",
    "flag2 = np.array([0,0,0,0,0,0,0,0,0,0,0,0,0,0,0])\n",
    "flag1 = np.array([0,0,0,0,0,0,0,0,0,0,0,0,0,0,0])\n",
    "ss = [[0 for i in range(15)] for j in range(15)]\n",
    "for i in range(len(res_idx)):\n",
    "    flag1[test_idx[i]] += 1\n",
    "    if res_idx[i] == test_idx[i]:\n",
    "        cnt += 1\n",
    "        flag2[test_idx[i]] += 1\n",
    "    ss[test_idx[i]][res_idx[i]] += 1\n",
    "print('总准确度为: ' + str(cnt/len(res_idx)))\n",
    "print('零的识别度为' + str(flag2[0]/flag1[0]))\n",
    "print('一的识别度为' + str(flag2[1]/flag1[1]))\n",
    "print('二的识别度为' + str(flag2[2]/flag1[2]))\n",
    "print('三的识别度为' + str(flag2[3]/flag1[3]))\n",
    "print('四的识别度为' + str(flag2[4]/flag1[4]))\n",
    "print('五的识别度为' + str(flag2[5]/flag1[5]))\n",
    "print('六的识别度为' + str(flag2[6]/flag1[6]))\n",
    "print('七的识别度为' + str(flag2[7]/flag1[7]))\n",
    "print('八的识别度为' + str(flag2[8]/flag1[8]))\n",
    "print('九的识别度为' + str(flag2[9]/flag1[9]))\n",
    "print('十的识别度为' + str(flag2[10]/flag1[10]))\n",
    "print('百的识别度为' + str(flag2[11]/flag1[11]))\n",
    "print('千的识别度为' + str(flag2[12]/flag1[12]))\n",
    "print('万的识别度为' + str(flag2[13]/flag1[13]))\n",
    "print('亿的识别度为' + str(flag2[14]/flag1[14]))\n",
    "print('混淆矩阵：')\n",
    "for i in range(0,15):\n",
    "    for j in range(0,15):\n",
    "        print('%3d'%ss[i][j],end=' ')\n",
    "    print()\n",
    "for i in range(0,15):\n",
    "    t1 = 0\n",
    "    for j in range(0,15):\n",
    "        t1 += ss[i][j]\n",
    "    t2 = 0\n",
    "    for j in range(0,15):\n",
    "        t2 += ss[j][i]\n",
    "    print(str(i) + '精确率: ' + str(ss[i][i]/t2))\n",
    "    print(str(i) + '召回率: ' + str(ss[i][i]/t1))"
   ]
  },
  {
   "cell_type": "markdown",
   "metadata": {},
   "source": [
    "<font face=\"微软雅黑\" size=5 color=#A52A2A > 2.tsne降维后逻辑回归多分类处理"
   ]
  },
  {
   "cell_type": "code",
   "execution_count": 137,
   "metadata": {},
   "outputs": [
    {
     "name": "stdout",
     "output_type": "stream",
     "text": [
      "(4050, 100)\n",
      "(4050, 15)\n"
     ]
    }
   ],
   "source": [
    "\n",
    "train_X = X_train\n",
    "train_Y = y_train.values\n",
    "test_X =  X_test\n",
    "test_Y = y_test.values\n",
    "print(train_X.shape)\n",
    "print(train_Y.shape)\n",
    "k = train_X.shape[1]  # k记录维度数量"
   ]
  },
  {
   "cell_type": "code",
   "execution_count": 138,
   "metadata": {},
   "outputs": [],
   "source": [
    "# 逻辑回归的sigmoid函数和计算cost function的函数\n",
    "def sigmoid(z):\n",
    "    return 1/(1+np.exp(-z))\n",
    "\n",
    "lamda = 1\n",
    "def calculate_loss(X, y, W, b, lamda):\n",
    "    A = sigmoid(np.dot(X, W.T) + b)\n",
    "    # 加1e-6是因为防止为0，log0不存在\n",
    "    first = y * np.log(A + 1e-6)\n",
    "    second = (1-y) * np.log(1-A + 1e-6)\n",
    "    reg = np.sum(np.power(W[1:],2))*(lamda/(2*len(X)))\n",
    "    \n",
    "    \n",
    "    return -np.sum(first+second)/len(X)\n",
    "\n",
    "# 初始化W和b两个参数\n",
    "np.random.seed(1)\n",
    "W = np.random.rand(15, k)\n",
    "b = np.ones(15)"
   ]
  },
  {
   "cell_type": "code",
   "execution_count": 178,
   "metadata": {},
   "outputs": [
    {
     "name": "stdout",
     "output_type": "stream",
     "text": [
      "已完成迭代500次\n",
      "已完成迭代1000次\n",
      "已完成迭代1500次\n",
      "已完成迭代2000次\n",
      "已完成迭代2500次\n",
      "已完成迭代3000次\n",
      "已完成迭代3500次\n",
      "已完成迭代4000次\n",
      "已完成迭代4500次\n",
      "已完成迭代5000次\n"
     ]
    },
    {
     "data": {
      "image/png": "[encoded data removed]",
      "text/plain": [
       "<Figure size 432x288 with 1 Axes>"
      ]
     },
     "metadata": {
      "needs_background": "light"
     },
     "output_type": "display_data"
    }
   ],
   "source": [
    "# 训练过程\n",
    "\n",
    "# 保存loss值的list\n",
    "loss = []\n",
    "loss.append(calculate_loss(train_X, train_Y, W, b, lamda))\n",
    "\n",
    "# 学习率\n",
    "learning_rate = 0.005\n",
    "# 迭代100次\n",
    "for i in range(5000):\n",
    "    # 参数W，b进行梯度下降变化过程\n",
    "    \n",
    "    reg = W[1:]*(lamda/len(train_X))\n",
    "    reg = np.insert(reg, 0, values=0, axis=0)\n",
    "    \n",
    "    t1 = W - learning_rate * np.dot(np.transpose(sigmoid(np.dot(train_X, W.T) + b) - train_Y), train_X) / len(train_X) - reg*learning_rate  \n",
    "    t2 = b - learning_rate * np.sum(np.transpose(sigmoid(np.dot(train_X, W.T) + b) - train_Y), axis=1) / len(train_X)\n",
    "    W = t1\n",
    "    b = t2\n",
    "    \n",
    "    if (i+1)%500 == 0:\n",
    "        print(\"已完成迭代%d\"%(i+1) + \"次\")\n",
    "        \n",
    "    \n",
    "    loss.append(calculate_loss(train_X, train_Y, W, b, lamda))\n",
    "# 可视化显示迭代过程中的代价函数值\n",
    "plt.plot(loss)\n",
    "plt.show()"
   ]
  },
  {
   "cell_type": "code",
   "execution_count": 179,
   "metadata": {},
   "outputs": [
    {
     "name": "stdout",
     "output_type": "stream",
     "text": [
      "总准确度为: 0.41555555555555557\n",
      "零的识别度为0.32432432432432434\n",
      "一的识别度为0.4\n",
      "二的识别度为0.35135135135135137\n",
      "三的识别度为0.3870967741935484\n",
      "四的识别度为0.2692307692307692\n",
      "五的识别度为0.24242424242424243\n",
      "六的识别度为0.3548387096774194\n",
      "七的识别度为0.59375\n",
      "八的识别度为0.8666666666666667\n",
      "九的识别度为0.2413793103448276\n",
      "十的识别度为0.2857142857142857\n",
      "百的识别度为0.4\n",
      "千的识别度为0.3103448275862069\n",
      "万的识别度为0.41935483870967744\n",
      "亿的识别度为0.8695652173913043\n",
      "混淆矩阵：\n",
      " 12   1   9   6   0   2   0   0   0   2   2   2   1   0   0 \n",
      "  2  12   4   0   2   1   0   1   0   1   3   3   0   1   0 \n",
      "  5   0  13   0   4   0   0   1   0   5   0   1   1   4   3 \n",
      "  3   0   0  12   0   6   5   2   0   1   0   1   1   0   0 \n",
      "  2   0   5   1   7   0   1   2   1   2   1   2   0   0   2 \n",
      "  5   1   0  12   0   8   5   1   0   1   0   0   0   0   0 \n",
      "  0   0   0  11   0   4  11   1   0   2   1   1   0   0   0 \n",
      "  4   1   0   0   2   0   2  19   0   1   1   1   0   1   0 \n",
      "  0   0   1   0   0   0   0   1  26   1   0   0   0   1   0 \n",
      "  3   1   5   3   5   1   1   0   0   7   1   1   0   0   1 \n",
      "  3   3   3   1   0   1   0   0   0   0   6   4   0   0   0 \n",
      "  1   3   1   2   2   2   0   0   0   0   6  12   1   0   0 \n",
      "  2   1   2   3   1   1   1   2   0   2   2   0   9   3   0 \n",
      "  4   1   4   0   2   0   0   0   0   1   1   0   4  13   1 \n",
      "  0   0   0   0   0   0   0   0   0   0   0   0   0   3  20 \n",
      "0精确率: 0.2608695652173913\n",
      "0召回率: 0.32432432432432434\n",
      "1精确率: 0.5\n",
      "1召回率: 0.4\n",
      "2精确率: 0.2765957446808511\n",
      "2召回率: 0.35135135135135137\n",
      "3精确率: 0.23529411764705882\n",
      "3召回率: 0.3870967741935484\n",
      "4精确率: 0.28\n",
      "4召回率: 0.2692307692307692\n",
      "5精确率: 0.3076923076923077\n",
      "5召回率: 0.24242424242424243\n",
      "6精确率: 0.4230769230769231\n",
      "6召回率: 0.3548387096774194\n",
      "7精确率: 0.6333333333333333\n",
      "7召回率: 0.59375\n",
      "8精确率: 0.9629629629629629\n",
      "8召回率: 0.8666666666666667\n",
      "9精确率: 0.2692307692307692\n",
      "9召回率: 0.2413793103448276\n",
      "10精确率: 0.25\n",
      "10召回率: 0.2857142857142857\n",
      "11精确率: 0.42857142857142855\n",
      "11召回率: 0.4\n",
      "12精确率: 0.5294117647058824\n",
      "12召回率: 0.3103448275862069\n",
      "13精确率: 0.5\n",
      "13召回率: 0.41935483870967744\n",
      "14精确率: 0.7407407407407407\n",
      "14召回率: 0.8695652173913043\n"
     ]
    }
   ],
   "source": [
    "# 预测\n",
    "res = sigmoid(np.dot(test_X, W.T) + b)\n",
    "res_idx = np.argmax(res, axis=1)\n",
    "test_idx = np.argmax(test_Y, axis=1)\n",
    "cnt = 0\n",
    "flag2 = np.array([0,0,0,0,0,0,0,0,0,0,0,0,0,0,0])\n",
    "flag1 = np.array([0,0,0,0,0,0,0,0,0,0,0,0,0,0,0])\n",
    "ss = [[0 for i in range(15)] for j in range(15)]\n",
    "for i in range(len(res_idx)):\n",
    "    flag1[test_idx[i]] += 1\n",
    "    if res_idx[i] == test_idx[i]:\n",
    "        cnt += 1\n",
    "        flag2[test_idx[i]] += 1\n",
    "    ss[test_idx[i]][res_idx[i]] += 1\n",
    "print('总准确度为: ' + str(cnt/len(res_idx)))\n",
    "print('零的识别度为' + str(flag2[0]/flag1[0]))\n",
    "print('一的识别度为' + str(flag2[1]/flag1[1]))\n",
    "print('二的识别度为' + str(flag2[2]/flag1[2]))\n",
    "print('三的识别度为' + str(flag2[3]/flag1[3]))\n",
    "print('四的识别度为' + str(flag2[4]/flag1[4]))\n",
    "print('五的识别度为' + str(flag2[5]/flag1[5]))\n",
    "print('六的识别度为' + str(flag2[6]/flag1[6]))\n",
    "print('七的识别度为' + str(flag2[7]/flag1[7]))\n",
    "print('八的识别度为' + str(flag2[8]/flag1[8]))\n",
    "print('九的识别度为' + str(flag2[9]/flag1[9]))\n",
    "print('十的识别度为' + str(flag2[10]/flag1[10]))\n",
    "print('百的识别度为' + str(flag2[11]/flag1[11]))\n",
    "print('千的识别度为' + str(flag2[12]/flag1[12]))\n",
    "print('万的识别度为' + str(flag2[13]/flag1[13]))\n",
    "print('亿的识别度为' + str(flag2[14]/flag1[14]))\n",
    "print('混淆矩阵：')\n",
    "for i in range(0,15):\n",
    "    for j in range(0,15):\n",
    "        print('%3d'%ss[i][j],end=' ')\n",
    "    print()\n",
    "for i in range(0,15):\n",
    "    t1 = 0\n",
    "    for j in range(0,15):\n",
    "        t1 += ss[i][j]\n",
    "    t2 = 0\n",
    "    for j in range(0,15):\n",
    "        t2 += ss[j][i]\n",
    "    print(str(i) + '精确率: ' + str(ss[i][i]/t2))\n",
    "    print(str(i) + '召回率: ' + str(ss[i][i]/t1))"
   ]
  },
  {
   "cell_type": "markdown",
   "metadata": {},
   "source": [
    "<font face=\"微软雅黑\" size=5 color=#A52A2A > 3.减少tsne降维后的样本数量进行逻辑回归"
   ]
  },
  {
   "cell_type": "code",
   "execution_count": 182,
   "metadata": {},
   "outputs": [
    {
     "name": "stdout",
     "output_type": "stream",
     "text": [
      "300\n",
      "1700\n"
     ]
    }
   ],
   "source": [
    "Y = Y[0 : 2000]\n",
    "df = df[0 : 2000]\n",
    "X_train_2, y_train_2, X_test_2, y_test_2 = trainTestSplit(Y, df, 300, 0, 1)\n",
    "print(len(y_test_2))\n",
    "print(len(y_train_2))"
   ]
  },
  {
   "cell_type": "code",
   "execution_count": 183,
   "metadata": {},
   "outputs": [
    {
     "name": "stdout",
     "output_type": "stream",
     "text": [
      "(1700, 100)\n",
      "(1700, 15)\n"
     ]
    }
   ],
   "source": [
    "train_X = X_train_2\n",
    "train_Y = y_train_2.values\n",
    "test_X =  X_test_2\n",
    "test_Y = y_test_2.values\n",
    "print(train_X.shape)\n",
    "print(train_Y.shape)\n",
    "k = train_X.shape[1]  # k记录维度数量"
   ]
  },
  {
   "cell_type": "code",
   "execution_count": 184,
   "metadata": {},
   "outputs": [],
   "source": [
    "# 逻辑回归的sigmoid函数和计算cost function的函数\n",
    "def sigmoid(z):\n",
    "    return 1/(1+np.exp(-z))\n",
    "\n",
    "lamda = 1\n",
    "def calculate_loss(X, y, W, b, lamda):\n",
    "    A = sigmoid(np.dot(X, W.T) + b)\n",
    "    # 加1e-6是因为防止为0，log0不存在\n",
    "    first = y * np.log(A + 1e-6)\n",
    "    second = (1-y) * np.log(1-A + 1e-6)\n",
    "    reg = np.sum(np.power(W[1:],2))*(lamda/(2*len(X)))\n",
    "    \n",
    "    \n",
    "    return -np.sum(first+second)/len(X)\n",
    "\n",
    "# 初始化W和b两个参数\n",
    "np.random.seed(1)\n",
    "W = np.random.rand(15, k)\n",
    "b = np.ones(15)"
   ]
  },
  {
   "cell_type": "code",
   "execution_count": 215,
   "metadata": {},
   "outputs": [
    {
     "name": "stdout",
     "output_type": "stream",
     "text": [
      "已完成迭代500次\n",
      "已完成迭代1000次\n",
      "已完成迭代1500次\n"
     ]
    },
    {
     "data": {
      "image/png": "[encoded data removed]",
      "text/plain": [
       "<Figure size 432x288 with 1 Axes>"
      ]
     },
     "metadata": {
      "needs_background": "light"
     },
     "output_type": "display_data"
    }
   ],
   "source": [
    "# 训练过程\n",
    "\n",
    "# 保存loss值的list\n",
    "loss = []\n",
    "loss.append(calculate_loss(train_X, train_Y, W, b, lamda))\n",
    "\n",
    "# 学习率\n",
    "learning_rate = 0.0022\n",
    "# 迭代100次\n",
    "for i in range(1500):\n",
    "    # 参数W，b进行梯度下降变化过程\n",
    "    \n",
    "    reg = W[1:]*(lamda/len(train_X))\n",
    "    reg = np.insert(reg, 0, values=0, axis=0)\n",
    "    \n",
    "    t1 = W - learning_rate * np.dot(np.transpose(sigmoid(np.dot(train_X, W.T) + b) - train_Y), train_X) / len(train_X) - reg*learning_rate  \n",
    "    t2 = b - learning_rate * np.sum(np.transpose(sigmoid(np.dot(train_X, W.T) + b) - train_Y), axis=1) / len(train_X)\n",
    "    W = t1\n",
    "    b = t2\n",
    "    \n",
    "    if (i+1)%500 == 0:\n",
    "        print(\"已完成迭代%d\"%(i+1) + \"次\")\n",
    "        \n",
    "    \n",
    "    loss.append(calculate_loss(train_X, train_Y, W, b, lamda))\n",
    "# 可视化显示迭代过程中的代价函数值\n",
    "plt.plot(loss)\n",
    "plt.show()"
   ]
  },
  {
   "cell_type": "code",
   "execution_count": 216,
   "metadata": {},
   "outputs": [
    {
     "name": "stdout",
     "output_type": "stream",
     "text": [
      "总准确度为: 0.38\n",
      "零的识别度为0.47619047619047616\n",
      "一的识别度为0.2\n",
      "二的识别度为0.3076923076923077\n",
      "三的识别度为0.35\n",
      "四的识别度为0.29411764705882354\n",
      "五的识别度为0.09090909090909091\n",
      "六的识别度为0.3333333333333333\n",
      "七的识别度为0.5555555555555556\n",
      "八的识别度为0.9047619047619048\n",
      "九的识别度为0.18181818181818182\n",
      "十的识别度为0.25\n",
      "百的识别度为0.4444444444444444\n",
      "千的识别度为0.3333333333333333\n",
      "万的识别度为0.36363636363636365\n",
      "亿的识别度为0.6666666666666666\n",
      "混淆矩阵：\n",
      " 10   0   7   4   0   0   0   0   0   0   0   0   0   0   0 \n",
      "  3   4   1   0   1   0   2   2   0   0   1   4   1   0   1 \n",
      "  2   0   8   0   3   0   0   3   0   4   0   1   1   4   0 \n",
      "  4   0   0   7   0   2   4   1   0   0   0   1   1   0   0 \n",
      "  2   0   2   0   5   0   1   1   0   1   0   3   1   0   1 \n",
      "  4   0   0   6   1   2   8   1   0   0   0   0   0   0   0 \n",
      "  0   0   0  11   2   1   7   0   0   0   0   0   0   0   0 \n",
      "  2   1   0   0   2   0   1  10   0   0   0   1   1   0   0 \n",
      "  0   0   0   0   0   0   0   1  19   0   0   0   0   1   0 \n",
      "  4   0   3   2   3   0   2   0   0   4   1   1   1   1   0 \n",
      "  4   1   2   1   0   0   0   0   0   0   4   3   1   0   0 \n",
      "  1   3   0   0   2   0   1   0   0   1   1   8   1   0   0 \n",
      "  4   0   2   2   0   0   1   1   0   0   0   1   6   1   0 \n",
      "  3   1   3   0   1   1   0   0   0   0   0   0   3   8   2 \n",
      "  0   0   2   0   2   0   0   0   0   0   0   0   1   1  12 \n",
      "0精确率: 0.23255813953488372\n",
      "0召回率: 0.47619047619047616\n",
      "1精确率: 0.4\n",
      "1召回率: 0.2\n",
      "2精确率: 0.26666666666666666\n",
      "2召回率: 0.3076923076923077\n",
      "3精确率: 0.21212121212121213\n",
      "3召回率: 0.35\n",
      "4精确率: 0.22727272727272727\n",
      "4召回率: 0.29411764705882354\n",
      "5精确率: 0.3333333333333333\n",
      "5召回率: 0.09090909090909091\n",
      "6精确率: 0.25925925925925924\n",
      "6召回率: 0.3333333333333333\n",
      "7精确率: 0.5\n",
      "7召回率: 0.5555555555555556\n",
      "8精确率: 1.0\n",
      "8召回率: 0.9047619047619048\n",
      "9精确率: 0.4\n",
      "9召回率: 0.18181818181818182\n",
      "10精确率: 0.5714285714285714\n",
      "10召回率: 0.25\n",
      "11精确率: 0.34782608695652173\n",
      "11召回率: 0.4444444444444444\n",
      "12精确率: 0.3333333333333333\n",
      "12召回率: 0.3333333333333333\n",
      "13精确率: 0.5\n",
      "13召回率: 0.36363636363636365\n",
      "14精确率: 0.75\n",
      "14召回率: 0.6666666666666666\n"
     ]
    }
   ],
   "source": [
    "# 预测\n",
    "res = sigmoid(np.dot(test_X, W.T) + b)\n",
    "res_idx = np.argmax(res, axis=1)\n",
    "test_idx = np.argmax(test_Y, axis=1)\n",
    "cnt = 0\n",
    "flag2 = np.array([0,0,0,0,0,0,0,0,0,0,0,0,0,0,0])\n",
    "flag1 = np.array([0,0,0,0,0,0,0,0,0,0,0,0,0,0,0])\n",
    "ss = [[0 for i in range(15)] for j in range(15)]\n",
    "for i in range(len(res_idx)):\n",
    "    flag1[test_idx[i]] += 1\n",
    "    if res_idx[i] == test_idx[i]:\n",
    "        cnt += 1\n",
    "        flag2[test_idx[i]] += 1\n",
    "    ss[test_idx[i]][res_idx[i]] += 1\n",
    "print('总准确度为: ' + str(cnt/len(res_idx)))\n",
    "print('零的识别度为' + str(flag2[0]/flag1[0]))\n",
    "print('一的识别度为' + str(flag2[1]/flag1[1]))\n",
    "print('二的识别度为' + str(flag2[2]/flag1[2]))\n",
    "print('三的识别度为' + str(flag2[3]/flag1[3]))\n",
    "print('四的识别度为' + str(flag2[4]/flag1[4]))\n",
    "print('五的识别度为' + str(flag2[5]/flag1[5]))\n",
    "print('六的识别度为' + str(flag2[6]/flag1[6]))\n",
    "print('七的识别度为' + str(flag2[7]/flag1[7]))\n",
    "print('八的识别度为' + str(flag2[8]/flag1[8]))\n",
    "print('九的识别度为' + str(flag2[9]/flag1[9]))\n",
    "print('十的识别度为' + str(flag2[10]/flag1[10]))\n",
    "print('百的识别度为' + str(flag2[11]/flag1[11]))\n",
    "print('千的识别度为' + str(flag2[12]/flag1[12]))\n",
    "print('万的识别度为' + str(flag2[13]/flag1[13]))\n",
    "print('亿的识别度为' + str(flag2[14]/flag1[14]))\n",
    "print('混淆矩阵：')\n",
    "for i in range(0,15):\n",
    "    for j in range(0,15):\n",
    "        print('%3d'%ss[i][j],end=' ')\n",
    "    print()\n",
    "for i in range(0,15):\n",
    "    t1 = 0\n",
    "    for j in range(0,15):\n",
    "        t1 += ss[i][j]\n",
    "    t2 = 0\n",
    "    for j in range(0,15):\n",
    "        t2 += ss[j][i]\n",
    "    print(str(i) + '精确率: ' + str(ss[i][i]/t2))\n",
    "    print(str(i) + '召回率: ' + str(ss[i][i]/t1))"
   ]
  },
  {
   "cell_type": "markdown",
   "metadata": {},
   "source": [
    "<font face=\"微软雅黑\" size=5 color=#A52A2A > 4.减少pca降维后的样本数量进行逻辑回归"
   ]
  },
  {
   "cell_type": "code",
   "execution_count": 14,
   "metadata": {},
   "outputs": [
    {
     "name": "stdout",
     "output_type": "stream",
     "text": [
      "300\n",
      "1700\n"
     ]
    }
   ],
   "source": [
    "import numpy as np\n",
    "import matplotlib.pyplot as plt\n",
    "import matplotlib.image as mpimg\n",
    "import scipy.io as sio\n",
    "Y_pca = Y_pca[0 : 2000]\n",
    "df = df[0 : 2000]\n",
    "X_train_3, y_train_3, X_test_3, y_test_3 = trainTestSplit(Y_pca, df, 300, 0, 1)\n",
    "print(len(y_test_3))\n",
    "print(len(y_train_3))\n",
    "train_X = X_train_3\n",
    "train_Y = y_train_3.values\n",
    "test_X =  X_test_3\n",
    "test_Y = y_test_3.values\n",
    "k = train_X.shape[1]  # k记录维度数量"
   ]
  },
  {
   "cell_type": "code",
   "execution_count": 39,
   "metadata": {},
   "outputs": [],
   "source": [
    "# 逻辑回归的sigmoid函数和计算cost function的函数\n",
    "def sigmoid(z):\n",
    "    return 1/(1+np.exp(-z))\n",
    "\n",
    "lamda = 1\n",
    "def calculate_loss(X, y, W, b, lamda):\n",
    "    A = sigmoid(np.dot(X, W.T) + b)\n",
    "    # 加1e-6是因为防止为0，log0不存在\n",
    "    first = y * np.log(A + 1e-6)\n",
    "    second = (1-y) * np.log(1-A + 1e-6)\n",
    "    reg = np.sum(np.power(W[1:],2))*(lamda/(2*len(X)))\n",
    "    \n",
    "    \n",
    "    return -np.sum(first+second)/len(X)\n",
    "\n",
    "# 初始化W和b两个参数\n",
    "np.random.seed(1)\n",
    "W = np.random.rand(15, k)\n",
    "b = np.ones(15)"
   ]
  },
  {
   "cell_type": "code",
   "execution_count": 40,
   "metadata": {},
   "outputs": [
    {
     "name": "stdout",
     "output_type": "stream",
     "text": [
      "已完成迭代500次\n",
      "已完成迭代1000次\n",
      "已完成迭代1500次\n",
      "已完成迭代2000次\n",
      "已完成迭代2500次\n",
      "已完成迭代3000次\n",
      "已完成迭代3500次\n",
      "已完成迭代4000次\n",
      "已完成迭代4500次\n",
      "已完成迭代5000次\n"
     ]
    },
    {
     "data": {
      "image/png": "[encoded data removed]",
      "text/plain": [
       "<Figure size 432x288 with 1 Axes>"
      ]
     },
     "metadata": {
      "needs_background": "light"
     },
     "output_type": "display_data"
    }
   ],
   "source": [
    "# 训练过程\n",
    "\n",
    "# 保存loss值的list\n",
    "loss = []\n",
    "loss.append(calculate_loss(train_X, train_Y, W, b, lamda))\n",
    "\n",
    "# 学习率\n",
    "learning_rate = 0.05\n",
    "# 迭代100次\n",
    "for i in range(5000):\n",
    "    # 参数W，b进行梯度下降变化过程\n",
    "    \n",
    "    reg = W[1:]*(lamda/len(train_X))\n",
    "    reg = np.insert(reg, 0, values=0, axis=0)\n",
    "    \n",
    "    t1 = W - learning_rate * np.dot(np.transpose(sigmoid(np.dot(train_X, W.T) + b) - train_Y), train_X) / len(train_X) - reg*learning_rate  \n",
    "    t2 = b - learning_rate * np.sum(np.transpose(sigmoid(np.dot(train_X, W.T) + b) - train_Y), axis=1) / len(train_X)\n",
    "    W = t1\n",
    "    b = t2\n",
    "    \n",
    "    if (i+1)%500 == 0:\n",
    "        print(\"已完成迭代%d\"%(i+1) + \"次\")\n",
    "        \n",
    "    \n",
    "    loss.append(calculate_loss(train_X, train_Y, W, b, lamda))\n",
    "# 可视化显示迭代过程中的代价函数值\n",
    "plt.plot(loss)\n",
    "plt.show()"
   ]
  },
  {
   "cell_type": "code",
   "execution_count": 41,
   "metadata": {},
   "outputs": [
    {
     "name": "stdout",
     "output_type": "stream",
     "text": [
      "总准确度为: 0.38666666666666666\n",
      "零的识别度为0.75\n",
      "一的识别度为0.20833333333333334\n",
      "二的识别度为0.3157894736842105\n",
      "三的识别度为0.5333333333333333\n",
      "四的识别度为0.3333333333333333\n",
      "五的识别度为0.22727272727272727\n",
      "六的识别度为0.4375\n",
      "七的识别度为0.29411764705882354\n",
      "八的识别度为0.42857142857142855\n",
      "九的识别度为0.30434782608695654\n",
      "十的识别度为0.4\n",
      "百的识别度为0.3157894736842105\n",
      "千的识别度为0.2777777777777778\n",
      "万的识别度为0.22727272727272727\n",
      "亿的识别度为0.7\n",
      "混淆矩阵：\n",
      " 21   0   0   1   0   3   0   0   0   1   2   0   0   0   0 \n",
      "  0   5   1   1   4   1   2   1   1   1   3   0   2   2   0 \n",
      "  0   1   6   0   1   1   1   1   1   0   0   0   5   1   1 \n",
      "  0   0   0   8   2   2   0   0   0   0   0   2   0   1   0 \n",
      "  0   3   4   0   7   0   2   1   1   0   1   0   0   0   2 \n",
      "  5   0   0   3   0   5   0   0   5   2   1   1   0   0   0 \n",
      "  0   2   0   0   1   1   7   2   0   0   0   0   0   2   1 \n",
      "  0   1   2   0   1   1   0   5   2   2   0   2   1   0   0 \n",
      "  4   0   1   0   1   2   0   2   9   1   0   0   0   1   0 \n",
      "  3   0   2   1   3   0   0   2   1   7   0   0   3   1   0 \n",
      "  0   2   0   0   0   0   2   0   0   1   6   2   0   0   2 \n",
      "  0   0   0   1   0   2   0   1   1   2   2   6   0   3   1 \n",
      "  0   1   5   0   0   0   0   2   0   1   1   1   5   0   2 \n",
      "  1   0   5   1   1   0   0   3   0   0   0   1   4   5   1 \n",
      "  0   0   0   1   0   0   0   0   0   0   0   1   1   3  14 \n",
      "0精确率: 0.6176470588235294\n",
      "0召回率: 0.75\n",
      "1精确率: 0.3333333333333333\n",
      "1召回率: 0.20833333333333334\n",
      "2精确率: 0.23076923076923078\n",
      "2召回率: 0.3157894736842105\n",
      "3精确率: 0.47058823529411764\n",
      "3召回率: 0.5333333333333333\n",
      "4精确率: 0.3333333333333333\n",
      "4召回率: 0.3333333333333333\n",
      "5精确率: 0.2777777777777778\n",
      "5召回率: 0.22727272727272727\n",
      "6精确率: 0.5\n",
      "6召回率: 0.4375\n",
      "7精确率: 0.25\n",
      "7召回率: 0.29411764705882354\n",
      "8精确率: 0.42857142857142855\n",
      "8召回率: 0.42857142857142855\n",
      "9精确率: 0.3888888888888889\n",
      "9召回率: 0.30434782608695654\n",
      "10精确率: 0.375\n",
      "10召回率: 0.4\n",
      "11精确率: 0.375\n",
      "11召回率: 0.3157894736842105\n",
      "12精确率: 0.23809523809523808\n",
      "12召回率: 0.2777777777777778\n",
      "13精确率: 0.2631578947368421\n",
      "13召回率: 0.22727272727272727\n",
      "14精确率: 0.5833333333333334\n",
      "14召回率: 0.7\n"
     ]
    }
   ],
   "source": [
    "# 预测\n",
    "res = sigmoid(np.dot(test_X, W.T) + b)\n",
    "res_idx = np.argmax(res, axis=1)\n",
    "test_idx = np.argmax(test_Y, axis=1)\n",
    "cnt = 0\n",
    "flag2 = np.array([0,0,0,0,0,0,0,0,0,0,0,0,0,0,0])\n",
    "flag1 = np.array([0,0,0,0,0,0,0,0,0,0,0,0,0,0,0])\n",
    "ss = [[0 for i in range(15)] for j in range(15)]\n",
    "for i in range(len(res_idx)):\n",
    "    flag1[test_idx[i]] += 1\n",
    "    if res_idx[i] == test_idx[i]:\n",
    "        cnt += 1\n",
    "        flag2[test_idx[i]] += 1\n",
    "    ss[test_idx[i]][res_idx[i]] += 1\n",
    "print('总准确度为: ' + str(cnt/len(res_idx)))\n",
    "print('零的识别度为' + str(flag2[0]/flag1[0]))\n",
    "print('一的识别度为' + str(flag2[1]/flag1[1]))\n",
    "print('二的识别度为' + str(flag2[2]/flag1[2]))\n",
    "print('三的识别度为' + str(flag2[3]/flag1[3]))\n",
    "print('四的识别度为' + str(flag2[4]/flag1[4]))\n",
    "print('五的识别度为' + str(flag2[5]/flag1[5]))\n",
    "print('六的识别度为' + str(flag2[6]/flag1[6]))\n",
    "print('七的识别度为' + str(flag2[7]/flag1[7]))\n",
    "print('八的识别度为' + str(flag2[8]/flag1[8]))\n",
    "print('九的识别度为' + str(flag2[9]/flag1[9]))\n",
    "print('十的识别度为' + str(flag2[10]/flag1[10]))\n",
    "print('百的识别度为' + str(flag2[11]/flag1[11]))\n",
    "print('千的识别度为' + str(flag2[12]/flag1[12]))\n",
    "print('万的识别度为' + str(flag2[13]/flag1[13]))\n",
    "print('亿的识别度为' + str(flag2[14]/flag1[14]))\n",
    "print('混淆矩阵：')\n",
    "for i in range(0,15):\n",
    "    for j in range(0,15):\n",
    "        print('%3d'%ss[i][j],end=' ')\n",
    "    print()\n",
    "for i in range(0,15):\n",
    "    t1 = 0\n",
    "    for j in range(0,15):\n",
    "        t1 += ss[i][j]\n",
    "    t2 = 0\n",
    "    for j in range(0,15):\n",
    "        t2 += ss[j][i]\n",
    "    print(str(i) + '精确率: ' + str(ss[i][i]/t2))\n",
    "    print(str(i) + '召回率: ' + str(ss[i][i]/t1))"
   ]
  },
  {
   "cell_type": "code",
   "execution_count": null,
   "metadata": {},
   "outputs": [],
   "source": []
  }
 ],
 "metadata": {
  "kernelspec": {
   "display_name": "Python 3",
   "language": "python",
   "name": "python3"
  },
  "language_info": {
   "codemirror_mode": {
    "name": "ipython",
    "version": 3
   },
   "file_extension": ".py",
   "mimetype": "text/x-python",
   "name": "python",
   "nbconvert_exporter": "python",
   "pygments_lexer": "ipython3",
   "version": "3.8.3"
  }
 },
 "nbformat": 4,
 "nbformat_minor": 4
}
