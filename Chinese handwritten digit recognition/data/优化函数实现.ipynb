{
 "cells": [
  {
   "cell_type": "code",
   "execution_count": 74,
   "metadata": {},
   "outputs": [],
   "source": [
    "# 逻辑回归多分类\n",
    "import numpy as np\n",
    "import matplotlib.pyplot as plt\n",
    "import matplotlib.image as mpimg\n",
    "import scipy.io as sio"
   ]
  },
  {
   "cell_type": "code",
   "execution_count": 75,
   "metadata": {},
   "outputs": [],
   "source": [
    "# 读取数据\n",
    "# 一共15000条数据，70%作为训练集，30%作为测试集\n",
    "# 分层来划分，每个志愿者的前面7次写的字作为训练集，后面3次写的作为测试集\n",
    "train_X = np.zeros((10500, 64*64))\n",
    "train_Y = np.zeros((10500, 15))\n",
    "test_X = np.zeros((4500, 64*64))\n",
    "test_Y = np.zeros((4500, 15))\n",
    "\n",
    "train_id = 0\n",
    "test_id = 0\n",
    "# i表示志愿者序号，j表示写的次数序号，k表示写的字的分类标签；具体可以看csv\n",
    "for i in range(1, 101):\n",
    "    for j in range(1, 11):\n",
    "        for k in range(1, 16):\n",
    "            img = mpimg.imread('./data/input_' + str(i) + '_' + str(j) + '_' + str(k) + '.jpg')\n",
    "            img = np.reshape(img, (64*64))\n",
    "            if j < 8:\n",
    "                train_X[train_id] = img\n",
    "                train_Y[train_id][k-1] = 1\n",
    "                train_id += 1\n",
    "            else:\n",
    "                test_X[test_id] = img\n",
    "                test_Y[test_id][k-1] = 1\n",
    "                test_id += 1"
   ]
  },
  {
   "cell_type": "code",
   "execution_count": 76,
   "metadata": {},
   "outputs": [],
   "source": [
    "def sigmoid(z):\n",
    "    return 1/(1+np.exp(-z))\n",
    "\n",
    "def costFunction(theta,X,y,lamda):\n",
    "    A=sigmoid(X@theta)\n",
    "    \n",
    "    first=y*np.log(A)\n",
    "    second=(1-y)*np.log(1-A)\n",
    "    \n",
    "    reg=theta[1:]@theta[1:]*(lamda/(2*len(X)))\n",
    "    return -np.sum(first+second)/len(X)+reg\n",
    "\n",
    "def gradient_reg(theta,X,y,lamda):\n",
    "    reg=theta[1:]*(lamda/len(X))\n",
    "    reg=np.insert(reg,0,values=0,axis=0)\n",
    "    \n",
    "    first=(X.T@(sigmoid(X@theta)-y))/len(X)\n",
    "    \n",
    "    return first+reg"
   ]
  },
  {
   "cell_type": "code",
   "execution_count": 77,
   "metadata": {},
   "outputs": [],
   "source": [
    "X = train_X\n",
    "y = np.argmax(train_Y, axis=1)"
   ]
  },
  {
   "cell_type": "code",
   "execution_count": 78,
   "metadata": {},
   "outputs": [
    {
     "data": {
      "text/plain": [
       "(10500, 4097)"
      ]
     },
     "execution_count": 78,
     "metadata": {},
     "output_type": "execute_result"
    }
   ],
   "source": [
    "X = np.insert(X,0,values=1,axis=1)\n",
    "X.shape"
   ]
  },
  {
   "cell_type": "code",
   "execution_count": 79,
   "metadata": {},
   "outputs": [
    {
     "data": {
      "text/plain": [
       "(10500,)"
      ]
     },
     "execution_count": 79,
     "metadata": {},
     "output_type": "execute_result"
    }
   ],
   "source": [
    "y.shape"
   ]
  },
  {
   "cell_type": "code",
   "execution_count": 80,
   "metadata": {},
   "outputs": [],
   "source": [
    "from scipy.optimize import minimize\n",
    "\n",
    "def one_vs_all(X,y,lamda,k):\n",
    "    n=X.shape[1]\n",
    "    \n",
    "    theta_all=np.zeros((K,n))\n",
    "    \n",
    "    for i in range(1,K+1):\n",
    "        theta_i=np.zeros(n,)\n",
    "        \n",
    "        res = minimize(fun=costFunction,\n",
    "                       x0=theta_i,\n",
    "                       args=(X,y==i,lamda),\n",
    "                       method='TNC',\n",
    "                       jac=gradient_reg)\n",
    "        theta_all[i-1,:]=res.x\n",
    "        \n",
    "    return theta_all"
   ]
  },
  {
   "cell_type": "code",
   "execution_count": 81,
   "metadata": {
    "scrolled": true
   },
   "outputs": [
    {
     "data": {
      "text/plain": [
       "array([[ 1.78876549e+00,  0.00000000e+00,  0.00000000e+00, ...,\n",
       "        -3.39178327e-07, -3.09132528e-07, -1.04139781e-07],\n",
       "       [-3.76458598e-01,  0.00000000e+00,  0.00000000e+00, ...,\n",
       "         2.02881918e-06,  4.18962802e-07, -5.10252787e-06],\n",
       "       [-1.15687811e+00,  0.00000000e+00,  0.00000000e+00, ...,\n",
       "        -4.36517818e-06, -4.65821755e-06, -2.78160902e-06],\n",
       "       ...,\n",
       "       [-2.84940232e+00,  0.00000000e+00,  0.00000000e+00, ...,\n",
       "        -4.21979235e-08, -4.82040371e-07, -4.45446508e-06],\n",
       "       [-3.69056157e+00,  0.00000000e+00,  0.00000000e+00, ...,\n",
       "         4.69806793e-06,  5.03359914e-06,  2.62859568e-06],\n",
       "       [-2.09456603e+01,  0.00000000e+00,  0.00000000e+00, ...,\n",
       "        -5.77053092e-14,  1.36648802e-13, -4.23202177e-14]])"
      ]
     },
     "execution_count": 81,
     "metadata": {},
     "output_type": "execute_result"
    }
   ],
   "source": [
    "lamda=600000\n",
    "K=15\n",
    "theta_final=one_vs_all(X,y,lamda,K)\n",
    "theta_final"
   ]
  },
  {
   "cell_type": "code",
   "execution_count": 82,
   "metadata": {},
   "outputs": [],
   "source": [
    "def predict(X,theta_final):\n",
    "    \n",
    "    h = sigmoid(X@theta_final.T)\n",
    "    \n",
    "    h_argmax=np.argmax(h,axis=1)\n",
    "    \n",
    "    return h_argmax+1"
   ]
  },
  {
   "cell_type": "code",
   "execution_count": 83,
   "metadata": {},
   "outputs": [
    {
     "name": "stdout",
     "output_type": "stream",
     "text": [
      "训练集验证的准确度为：\n"
     ]
    },
    {
     "data": {
      "text/plain": [
       "0.548952380952381"
      ]
     },
     "execution_count": 83,
     "metadata": {},
     "output_type": "execute_result"
    }
   ],
   "source": [
    "y_pred=predict(X,theta_final)\n",
    "acc=np.mean(y_pred==y)\n",
    "print(\"训练集验证的准确度为：\")\n",
    "acc"
   ]
  },
  {
   "cell_type": "code",
   "execution_count": 84,
   "metadata": {},
   "outputs": [],
   "source": [
    "test_X = np.insert(test_X,0,values=1,axis=1)\n",
    "test_Y = np.argmax(test_Y, axis=1)"
   ]
  },
  {
   "cell_type": "code",
   "execution_count": 85,
   "metadata": {},
   "outputs": [
    {
     "name": "stdout",
     "output_type": "stream",
     "text": [
      "测试集验证的准确度为：\n"
     ]
    },
    {
     "data": {
      "text/plain": [
       "0.44622222222222224"
      ]
     },
     "execution_count": 85,
     "metadata": {},
     "output_type": "execute_result"
    }
   ],
   "source": [
    "y_pred=predict(test_X,theta_final)\n",
    "acc=np.mean(y_pred==test_Y)\n",
    "print(\"测试集验证的准确度为：\")\n",
    "acc"
   ]
  },
  {
   "cell_type": "code",
   "execution_count": null,
   "metadata": {},
   "outputs": [],
   "source": []
  }
 ],
 "metadata": {
  "kernelspec": {
   "display_name": "Python 3",
   "language": "python",
   "name": "python3"
  },
  "language_info": {
   "codemirror_mode": {
    "name": "ipython",
    "version": 3
   },
   "file_extension": ".py",
   "mimetype": "text/x-python",
   "name": "python",
   "nbconvert_exporter": "python",
   "pygments_lexer": "ipython3",
   "version": "3.8.3"
  }
 },
 "nbformat": 4,
 "nbformat_minor": 4
}
